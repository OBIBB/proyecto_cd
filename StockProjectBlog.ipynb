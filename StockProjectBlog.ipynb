{
 "cells": [
  {
   "cell_type": "markdown",
   "id": "0f145a2c-78c1-4e51-8943-4438df9c6154",
   "metadata": {},
   "source": [
    "# Portfolio project: Predicting stock prices using pandas and scikit-learn\n",
    "\n",
    "In this project, we'll learn how to predict stock prices using pandas and scikit-learn.  Along the way, we'll download stock prices, create a machine learning model, and develop a backtesting engine.  As we do that, we'll discuss what makes a good project for a data science portfolio, and how to present this project in your portfolio.  For your reference, you can see the completed project [here](https://github.com/dataquestio/project-walkthroughs/blob/master/stock/StockProject.ipynb).\n",
    "\n",
    "First, let's tie what we'll be doing in this project to the real world.  When making a project, even if it is for your portfolio, it is important to think about how it might be used in the real world.  This is because hiring managers want your project to be as close to actual data science work as possible.  So spend a good amount of time thinking about what error metric you want to target and how your algorithm will be used.\n",
    "\n",
    "In this case, let's say that we are trading stocks.  We're interested in making profitable stock trades with minimal risk.  So when we buy a stock, we want to be fairly certain that the price will increase.  We'll buy stock when the market opens, and sell it when the market closes.\n",
    "\n",
    "### Machine learning setup\n",
    "\n",
    "To tell us when to trade, we want to train a machine learning model.  This model needs to predict tomorrow's closing price using data from today.  If the model says that the price will increase, we'll buy stock.  If the model says that the price will go down, we won't do anything.\n",
    "\n",
    "We want to maximize our `true positives` - days when the model predicts that the price will go up, and it actually goes go up.  Therefore, we'll be using precision as our error metric for our model, which is `true positives / (false positives + true positives)`.  This will ensure that we minimize how much money we lose with `false positives` (days when we buy the stock, but the price actually goes down).\n",
    "\n",
    "This means that we will have to accept a lot of `false negatives` - days when we predict that the price will go down, but it actually goes up.  This is okay, since we'd rather minimize our potential losses than maximize our potential gains.\n",
    "\n",
    "So our model will have low `recall`, but high `precision`.  [Here](https://scikit-learn.org/stable/modules/model_evaluation.html#precision-recall-f-measure-metrics) is more on precision and recall.\n",
    "\n",
    "### Method\n",
    "\n",
    "We'll be looking at Microsoft stock, which has the stock symbol `MSFT`.  Here are the steps that we'll follow to make predictions on the price of `MSFT` stock:\n",
    "\n",
    "* Download MSFT stock prices from Yahoo finance\n",
    "* Explore the data\n",
    "* Setup the dataset to predict future prices using historical prices\n",
    "* Test a machine learning model\n",
    "* Setup a backtesting engine\n",
    "* Improve the accuracy of the model\n",
    "\n",
    "At the end, we'll document some potential future directions we can go in to improve the technique."
   ]
  },
  {
   "cell_type": "markdown",
   "id": "46c2533c-6032-49df-9547-4a7aac1bf0ed",
   "metadata": {},
   "source": [
    "## Downloading the data\n",
    "\n",
    "First, we'll download the data from Yahoo Finance.  To do this, we'll use the `yfinance` python package.  We can install this by typing `pip install yfinance` in the command line (or typing `!pip install yfinance` in Jupyter notebook).\n",
    "\n",
    "We'll use data for a single stock (Microsoft) from when it started trading to the present."
   ]
  },
  {
   "cell_type": "code",
   "execution_count": 109,
   "id": "72dbf5da-f686-4b92-abd3-8f2b5df2e2cf",
   "metadata": {},
   "outputs": [],
   "source": [
    "import yfinance as yf\n",
    "\n",
    "msft = yf.Ticker(\"MSFT\")\n",
    "msft_hist = msft.history(period=\"max\")"
   ]
  },
  {
   "cell_type": "markdown",
   "id": "ffa15d7e-ffd3-4c43-8663-5e33c4b7656b",
   "metadata": {},
   "source": [
    "We've now downloaded the data!  In the real world, we want to save the data to disk, so we can access it again if we need it without calling the API over and over.  We can do this by checking if we've saved the data before.  If we have, we just load the data.  Otherwise, we download the data.\n",
    "\n",
    "We'll need to install `pandas` to do this."
   ]
  },
  {
   "cell_type": "code",
   "execution_count": 110,
   "id": "abf9c5d8-94b1-40d4-9565-757736f4932a",
   "metadata": {},
   "outputs": [],
   "source": [
    "import os\n",
    "import pandas as pd\n",
    "\n",
    "DATA_PATH = \"msft_data.json\"\n",
    "\n",
    "if os.path.exists(DATA_PATH):\n",
    "    # Read from file if we've already downloaded the data.\n",
    "    with open(DATA_PATH) as f:\n",
    "        msft_hist = pd.read_json(DATA_PATH)\n",
    "else:\n",
    "    msft = yf.Ticker(\"MSFT\")\n",
    "    msft_hist = msft.history(period=\"max\")\n",
    "\n",
    "    # Save file to json in case we need it later.  This prevents us from having to re-download it every time.\n",
    "    msft_hist.to_json(DATA_PATH)"
   ]
  },
  {
   "cell_type": "markdown",
   "id": "9693d9aa-81bb-471f-8601-0970c7da88ca",
   "metadata": {},
   "source": [
    "### Exploring the data\n",
    "\n",
    "Next, we can take a look at `msft_hist` to see the structure of the data.  We'll use the `.head` method on [DataFrames](https://pandas.pydata.org/docs/reference/api/pandas.DataFrame.html) to check the first 5 rows of the data.\n",
    "\n",
    "As we can see below, we have one row of data for each day that Microsoft stock was traded.  Here are the columns:\n",
    "\n",
    "* Open - the price the stock opened at.\n",
    "* High - the highest price during the day\n",
    "* Low - the lowest price during the day\n",
    "* Close - the closing price on the trading day\n",
    "* Volume - how many shares were traded\n",
    "\n",
    "The row index of the DataFrame is the date the stock was traded.  Stock doesn't trade every day (there is no trading on weekends and holidays), so some dates are missing."
   ]
  },
  {
   "cell_type": "code",
   "execution_count": 111,
   "id": "e33e6f49-7233-40b7-86ea-96d4a6978a01",
   "metadata": {},
   "outputs": [
    {
     "data": {
      "text/html": [
       "<div>\n",
       "<style scoped>\n",
       "    .dataframe tbody tr th:only-of-type {\n",
       "        vertical-align: middle;\n",
       "    }\n",
       "\n",
       "    .dataframe tbody tr th {\n",
       "        vertical-align: top;\n",
       "    }\n",
       "\n",
       "    .dataframe thead th {\n",
       "        text-align: right;\n",
       "    }\n",
       "</style>\n",
       "<table border=\"1\" class=\"dataframe\">\n",
       "  <thead>\n",
       "    <tr style=\"text-align: right;\">\n",
       "      <th></th>\n",
       "      <th>Open</th>\n",
       "      <th>High</th>\n",
       "      <th>Low</th>\n",
       "      <th>Close</th>\n",
       "      <th>Volume</th>\n",
       "      <th>Dividends</th>\n",
       "      <th>Stock Splits</th>\n",
       "    </tr>\n",
       "  </thead>\n",
       "  <tbody>\n",
       "    <tr>\n",
       "      <th>2024-11-11 05:00:00</th>\n",
       "      <td>422.519989</td>\n",
       "      <td>424.809998</td>\n",
       "      <td>416.000000</td>\n",
       "      <td>418.010010</td>\n",
       "      <td>24503300</td>\n",
       "      <td>0.0</td>\n",
       "      <td>0.0</td>\n",
       "    </tr>\n",
       "    <tr>\n",
       "      <th>2024-11-12 05:00:00</th>\n",
       "      <td>418.250000</td>\n",
       "      <td>424.440002</td>\n",
       "      <td>417.200012</td>\n",
       "      <td>423.029999</td>\n",
       "      <td>19401200</td>\n",
       "      <td>0.0</td>\n",
       "      <td>0.0</td>\n",
       "    </tr>\n",
       "    <tr>\n",
       "      <th>2024-11-13 05:00:00</th>\n",
       "      <td>421.640015</td>\n",
       "      <td>429.329987</td>\n",
       "      <td>418.209991</td>\n",
       "      <td>425.200012</td>\n",
       "      <td>21502200</td>\n",
       "      <td>0.0</td>\n",
       "      <td>0.0</td>\n",
       "    </tr>\n",
       "    <tr>\n",
       "      <th>2024-11-14 05:00:00</th>\n",
       "      <td>425.000000</td>\n",
       "      <td>428.170013</td>\n",
       "      <td>420.000000</td>\n",
       "      <td>426.890015</td>\n",
       "      <td>30213400</td>\n",
       "      <td>0.0</td>\n",
       "      <td>0.0</td>\n",
       "    </tr>\n",
       "    <tr>\n",
       "      <th>2024-11-15 05:00:00</th>\n",
       "      <td>420.250000</td>\n",
       "      <td>422.799988</td>\n",
       "      <td>416.160004</td>\n",
       "      <td>416.549988</td>\n",
       "      <td>9245974</td>\n",
       "      <td>0.0</td>\n",
       "      <td>0.0</td>\n",
       "    </tr>\n",
       "  </tbody>\n",
       "</table>\n",
       "</div>"
      ],
      "text/plain": [
       "                           Open        High         Low       Close    Volume  \\\n",
       "2024-11-11 05:00:00  422.519989  424.809998  416.000000  418.010010  24503300   \n",
       "2024-11-12 05:00:00  418.250000  424.440002  417.200012  423.029999  19401200   \n",
       "2024-11-13 05:00:00  421.640015  429.329987  418.209991  425.200012  21502200   \n",
       "2024-11-14 05:00:00  425.000000  428.170013  420.000000  426.890015  30213400   \n",
       "2024-11-15 05:00:00  420.250000  422.799988  416.160004  416.549988   9245974   \n",
       "\n",
       "                     Dividends  Stock Splits  \n",
       "2024-11-11 05:00:00        0.0           0.0  \n",
       "2024-11-12 05:00:00        0.0           0.0  \n",
       "2024-11-13 05:00:00        0.0           0.0  \n",
       "2024-11-14 05:00:00        0.0           0.0  \n",
       "2024-11-15 05:00:00        0.0           0.0  "
      ]
     },
     "execution_count": 111,
     "metadata": {},
     "output_type": "execute_result"
    }
   ],
   "source": [
    "msft_hist.tail(5)"
   ]
  },
  {
   "cell_type": "markdown",
   "id": "0f876a5d-3256-496b-b74d-06356789b07a",
   "metadata": {},
   "source": [
    "Next, let's plot the data so we can see how the stock price has changed over time.  This gives us another overview of the structure of the data.  We can use the built-in [plot](https://pandas.pydata.org/docs/reference/api/pandas.DataFrame.plot.html?highlight=plot#pandas.DataFrame.plot) method on DataFrames to do this.  We use the `use_index` parameter because we want to use the index as the x-axis values.\n",
    "\n",
    "Before we can plot, make sure to install `matplotlib`."
   ]
  },
  {
   "cell_type": "code",
   "execution_count": 112,
   "id": "fadf28ca-5a8c-421e-b4ef-cd02def0a895",
   "metadata": {},
   "outputs": [
    {
     "data": {
      "text/plain": [
       "<Axes: >"
      ]
     },
     "execution_count": 112,
     "metadata": {},
     "output_type": "execute_result"
    },
    {
     "data": {
      "image/png": "[encoded data removed]",
      "text/plain": [
       "<Figure size 640x480 with 1 Axes>"
      ]
     },
     "metadata": {},
     "output_type": "display_data"
    }
   ],
   "source": [
    "# Visualize microsoft stock prices\n",
    "msft_hist.plot.line(y=\"Close\", use_index=True)"
   ]
  },
  {
   "cell_type": "markdown",
   "id": "71a6f21e-affe-43ee-aa38-729acc40bbb0",
   "metadata": {},
   "source": [
    "## Preparing the data\n",
    "\n",
    "Ok, hopefully you've stopped kicking yourself for not buying Microsoft stock at any point in the past 30 years now. \n",
    "\n",
    "Now, let's prepare the data so we can make predictions.  As we mentioned in the introduction, we'll be predicting if the price will go up or down tomorrow based on data from today.\n",
    "\n",
    "First, we'll identify a target that we're trying to predict.  Our target will be if the price will go up or down tomorrow.  If the price went up, the target will be `1`, and if it went down, the target will be `0`.\n",
    "\n",
    "Next, we'll shift the data from previous days \"forward\" one day, so we can use it to predict the target price.  This ensures that we don't accidentally use data from the same day to make predictions! (a very common mistake)\n",
    "\n",
    "Then, we'll combine both so we have our training data.\n",
    "\n",
    "### Setting up the target\n",
    "\n",
    "First, we setup the target.  \n",
    "\n",
    "We do this by first copying the `Close` column to a new DataFrame called `data` and renaming it to `actual_close`.  This ensures that we can continue to see the value that the stock actually closed at on each day.  (we'll be shifting things around later, so it's important to preserve this).\n",
    "\n",
    "Then, we setup our target by doing the following:\n",
    "\n",
    "* Using the pandas [rolling](https://pandas.pydata.org/docs/reference/api/pandas.DataFrame.rolling.html?highlight=rolling#pandas.DataFrame.rolling) method across every 2 rows of the DataFrame.  This will first look at ('1986-03-13', '1986-03-14'), then ('1986-03-14', '1986-03-17'), and so on across the DataFrame.\n",
    "* We will compare the second row to the first row to see if it is greater.  If it is, return 1, otherwise 0.\n",
    "* We then just look at the `Close` column.\n",
    "\n",
    "As you can see above, the `Target` column now indicates if the price went up or down on the given day.  If `Target` is `1`, the price went up.  If `Target` is `0`, the price went down.\n",
    "\n",
    "This is what we want our machine learning model to predict!"
   ]
  },
  {
   "cell_type": "code",
   "execution_count": 113,
   "id": "05310dc8-05bc-4513-aac6-2ae85b82db69",
   "metadata": {},
   "outputs": [],
   "source": [
    "# Ensure we know the actual closing price\n",
    "data = msft_hist[[\"Close\"]]\n",
    "data = data.rename(columns = {'Close':'Actual_Close'})\n",
    "\n",
    "# Setup our target.  This identifies if the price went up or down\n",
    "data[\"Target\"] = msft_hist.rolling(2).apply(lambda x: x.iloc[1] > x.iloc[0])[\"Close\"]"
   ]
  },
  {
   "cell_type": "code",
   "execution_count": 114,
   "id": "9cdf9219-215f-4f4d-8ac8-57212c223ec7",
   "metadata": {},
   "outputs": [
    {
     "data": {
      "text/html": [
       "<div>\n",
       "<style scoped>\n",
       "    .dataframe tbody tr th:only-of-type {\n",
       "        vertical-align: middle;\n",
       "    }\n",
       "\n",
       "    .dataframe tbody tr th {\n",
       "        vertical-align: top;\n",
       "    }\n",
       "\n",
       "    .dataframe thead th {\n",
       "        text-align: right;\n",
       "    }\n",
       "</style>\n",
       "<table border=\"1\" class=\"dataframe\">\n",
       "  <thead>\n",
       "    <tr style=\"text-align: right;\">\n",
       "      <th></th>\n",
       "      <th>Actual_Close</th>\n",
       "      <th>Target</th>\n",
       "    </tr>\n",
       "  </thead>\n",
       "  <tbody>\n",
       "    <tr>\n",
       "      <th>2024-11-11 05:00:00</th>\n",
       "      <td>418.010010</td>\n",
       "      <td>0.0</td>\n",
       "    </tr>\n",
       "    <tr>\n",
       "      <th>2024-11-12 05:00:00</th>\n",
       "      <td>423.029999</td>\n",
       "      <td>1.0</td>\n",
       "    </tr>\n",
       "    <tr>\n",
       "      <th>2024-11-13 05:00:00</th>\n",
       "      <td>425.200012</td>\n",
       "      <td>1.0</td>\n",
       "    </tr>\n",
       "    <tr>\n",
       "      <th>2024-11-14 05:00:00</th>\n",
       "      <td>426.890015</td>\n",
       "      <td>1.0</td>\n",
       "    </tr>\n",
       "    <tr>\n",
       "      <th>2024-11-15 05:00:00</th>\n",
       "      <td>416.549988</td>\n",
       "      <td>0.0</td>\n",
       "    </tr>\n",
       "  </tbody>\n",
       "</table>\n",
       "</div>"
      ],
      "text/plain": [
       "                     Actual_Close  Target\n",
       "2024-11-11 05:00:00    418.010010     0.0\n",
       "2024-11-12 05:00:00    423.029999     1.0\n",
       "2024-11-13 05:00:00    425.200012     1.0\n",
       "2024-11-14 05:00:00    426.890015     1.0\n",
       "2024-11-15 05:00:00    416.549988     0.0"
      ]
     },
     "execution_count": 114,
     "metadata": {},
     "output_type": "execute_result"
    }
   ],
   "source": [
    "data.tail()"
   ]
  },
  {
   "cell_type": "markdown",
   "id": "b91af823-efa4-405a-840d-57483cbdf314",
   "metadata": {},
   "source": [
    "### Shifting data \"forward\"\n",
    "\n",
    "Next, we'll use the DataFrame [shift](https://pandas.pydata.org/docs/reference/api/pandas.DataFrame.shift.html?highlight=shift#pandas.DataFrame.shift) method to move all rows \"forward\" one trading day.\n",
    "\n",
    "As you can see, the prices for `1986-03-13` are now associated with `1986-03-14`, and every other price is shifted up one row.  This is to ensure that we're predicting future prices using past data.\n",
    "\n",
    "If we didn't do this, we'd be using data from `03-14` to predict prices on `03-14`.  Instead, we need to use data from `03-13` to predict prices on `03-14`.  If we don't do this, our model will look amazing when we're testing it, but won't work at all in the real world.  In the real world, we don't actually know the price tomorrow, so we can't use it to make our predictions."
   ]
  },
  {
   "cell_type": "code",
   "execution_count": 115,
   "id": "fd644358-2713-4004-b2e5-be7150ae38ab",
   "metadata": {},
   "outputs": [],
   "source": [
    "# Shift stock prices forward one day, so we're predicting tomorrow's stock prices from today's prices.\n",
    "msft_prev = msft_hist.copy()\n",
    "msft_prev = msft_prev.shift(1)"
   ]
  },
  {
   "cell_type": "code",
   "execution_count": 116,
   "id": "ddea7598-3f83-45db-b0ca-c5ba9e39ae35",
   "metadata": {},
   "outputs": [
    {
     "data": {
      "text/html": [
       "<div>\n",
       "<style scoped>\n",
       "    .dataframe tbody tr th:only-of-type {\n",
       "        vertical-align: middle;\n",
       "    }\n",
       "\n",
       "    .dataframe tbody tr th {\n",
       "        vertical-align: top;\n",
       "    }\n",
       "\n",
       "    .dataframe thead th {\n",
       "        text-align: right;\n",
       "    }\n",
       "</style>\n",
       "<table border=\"1\" class=\"dataframe\">\n",
       "  <thead>\n",
       "    <tr style=\"text-align: right;\">\n",
       "      <th></th>\n",
       "      <th>Open</th>\n",
       "      <th>High</th>\n",
       "      <th>Low</th>\n",
       "      <th>Close</th>\n",
       "      <th>Volume</th>\n",
       "      <th>Dividends</th>\n",
       "      <th>Stock Splits</th>\n",
       "    </tr>\n",
       "  </thead>\n",
       "  <tbody>\n",
       "    <tr>\n",
       "      <th>1986-03-13 05:00:00</th>\n",
       "      <td>NaN</td>\n",
       "      <td>NaN</td>\n",
       "      <td>NaN</td>\n",
       "      <td>NaN</td>\n",
       "      <td>NaN</td>\n",
       "      <td>NaN</td>\n",
       "      <td>NaN</td>\n",
       "    </tr>\n",
       "    <tr>\n",
       "      <th>1986-03-14 05:00:00</th>\n",
       "      <td>0.054594</td>\n",
       "      <td>0.062623</td>\n",
       "      <td>0.054594</td>\n",
       "      <td>0.059946</td>\n",
       "      <td>1.031789e+09</td>\n",
       "      <td>0.0</td>\n",
       "      <td>0.0</td>\n",
       "    </tr>\n",
       "    <tr>\n",
       "      <th>1986-03-17 05:00:00</th>\n",
       "      <td>0.059946</td>\n",
       "      <td>0.063158</td>\n",
       "      <td>0.059946</td>\n",
       "      <td>0.062087</td>\n",
       "      <td>3.081600e+08</td>\n",
       "      <td>0.0</td>\n",
       "      <td>0.0</td>\n",
       "    </tr>\n",
       "    <tr>\n",
       "      <th>1986-03-18 05:00:00</th>\n",
       "      <td>0.062087</td>\n",
       "      <td>0.063694</td>\n",
       "      <td>0.062087</td>\n",
       "      <td>0.063158</td>\n",
       "      <td>1.331712e+08</td>\n",
       "      <td>0.0</td>\n",
       "      <td>0.0</td>\n",
       "    </tr>\n",
       "    <tr>\n",
       "      <th>1986-03-19 05:00:00</th>\n",
       "      <td>0.063158</td>\n",
       "      <td>0.063693</td>\n",
       "      <td>0.061017</td>\n",
       "      <td>0.061552</td>\n",
       "      <td>6.776640e+07</td>\n",
       "      <td>0.0</td>\n",
       "      <td>0.0</td>\n",
       "    </tr>\n",
       "  </tbody>\n",
       "</table>\n",
       "</div>"
      ],
      "text/plain": [
       "                         Open      High       Low     Close        Volume  \\\n",
       "1986-03-13 05:00:00       NaN       NaN       NaN       NaN           NaN   \n",
       "1986-03-14 05:00:00  0.054594  0.062623  0.054594  0.059946  1.031789e+09   \n",
       "1986-03-17 05:00:00  0.059946  0.063158  0.059946  0.062087  3.081600e+08   \n",
       "1986-03-18 05:00:00  0.062087  0.063694  0.062087  0.063158  1.331712e+08   \n",
       "1986-03-19 05:00:00  0.063158  0.063693  0.061017  0.061552  6.776640e+07   \n",
       "\n",
       "                     Dividends  Stock Splits  \n",
       "1986-03-13 05:00:00        NaN           NaN  \n",
       "1986-03-14 05:00:00        0.0           0.0  \n",
       "1986-03-17 05:00:00        0.0           0.0  \n",
       "1986-03-18 05:00:00        0.0           0.0  \n",
       "1986-03-19 05:00:00        0.0           0.0  "
      ]
     },
     "execution_count": 116,
     "metadata": {},
     "output_type": "execute_result"
    }
   ],
   "source": [
    "msft_prev.head()"
   ]
  },
  {
   "cell_type": "markdown",
   "id": "e8da8f04-b822-4612-8003-dd189ad58054",
   "metadata": {},
   "source": [
    "### Combining our data\n",
    "\n",
    "Next, we need to combine our `Target` with the columns we want to use to predict the target.  We'll use this with the [join](https://pandas.pydata.org/docs/reference/api/pandas.DataFrame.join.html?highlight=join#pandas.DataFrame.join) method on DataFrames.\n",
    "\n",
    "After we join our data, we see that we'll be predicting the target using data from the previous day.  The columns we'll use to predict our target are `[\"Close\", \"Volume\", \"Open\", \"High\", \"Low\"]`.\n",
    "\n",
    "It's good to be explicit with `predictors` to avoid accidentally using your target to predict itself.  This will make your model look really good in training, but won't work at all in the real world."
   ]
  },
  {
   "cell_type": "code",
   "execution_count": 117,
   "id": "eea608f5-c7ef-48e3-993e-d2f577a6e34c",
   "metadata": {},
   "outputs": [],
   "source": [
    "# Create our training data\n",
    "predictors = [\"Close\", \"Volume\", \"Open\", \"High\", \"Low\"]\n",
    "data = data.join(msft_prev[predictors]).iloc[1:]"
   ]
  },
  {
   "cell_type": "code",
   "execution_count": 118,
   "id": "b46f735a-2b79-42a6-ae48-3327bdc200f3",
   "metadata": {},
   "outputs": [
    {
     "data": {
      "text/html": [
       "<div>\n",
       "<style scoped>\n",
       "    .dataframe tbody tr th:only-of-type {\n",
       "        vertical-align: middle;\n",
       "    }\n",
       "\n",
       "    .dataframe tbody tr th {\n",
       "        vertical-align: top;\n",
       "    }\n",
       "\n",
       "    .dataframe thead th {\n",
       "        text-align: right;\n",
       "    }\n",
       "</style>\n",
       "<table border=\"1\" class=\"dataframe\">\n",
       "  <thead>\n",
       "    <tr style=\"text-align: right;\">\n",
       "      <th></th>\n",
       "      <th>Actual_Close</th>\n",
       "      <th>Target</th>\n",
       "      <th>Close</th>\n",
       "      <th>Volume</th>\n",
       "      <th>Open</th>\n",
       "      <th>High</th>\n",
       "      <th>Low</th>\n",
       "    </tr>\n",
       "  </thead>\n",
       "  <tbody>\n",
       "    <tr>\n",
       "      <th>1986-03-14 05:00:00</th>\n",
       "      <td>0.062087</td>\n",
       "      <td>1.0</td>\n",
       "      <td>0.059946</td>\n",
       "      <td>1.031789e+09</td>\n",
       "      <td>0.054594</td>\n",
       "      <td>0.062623</td>\n",
       "      <td>0.054594</td>\n",
       "    </tr>\n",
       "    <tr>\n",
       "      <th>1986-03-17 05:00:00</th>\n",
       "      <td>0.063158</td>\n",
       "      <td>1.0</td>\n",
       "      <td>0.062087</td>\n",
       "      <td>3.081600e+08</td>\n",
       "      <td>0.059946</td>\n",
       "      <td>0.063158</td>\n",
       "      <td>0.059946</td>\n",
       "    </tr>\n",
       "    <tr>\n",
       "      <th>1986-03-18 05:00:00</th>\n",
       "      <td>0.061552</td>\n",
       "      <td>0.0</td>\n",
       "      <td>0.063158</td>\n",
       "      <td>1.331712e+08</td>\n",
       "      <td>0.062087</td>\n",
       "      <td>0.063694</td>\n",
       "      <td>0.062087</td>\n",
       "    </tr>\n",
       "    <tr>\n",
       "      <th>1986-03-19 05:00:00</th>\n",
       "      <td>0.060482</td>\n",
       "      <td>0.0</td>\n",
       "      <td>0.061552</td>\n",
       "      <td>6.776640e+07</td>\n",
       "      <td>0.063158</td>\n",
       "      <td>0.063693</td>\n",
       "      <td>0.061017</td>\n",
       "    </tr>\n",
       "    <tr>\n",
       "      <th>1986-03-20 05:00:00</th>\n",
       "      <td>0.058876</td>\n",
       "      <td>0.0</td>\n",
       "      <td>0.060482</td>\n",
       "      <td>4.789440e+07</td>\n",
       "      <td>0.061552</td>\n",
       "      <td>0.062087</td>\n",
       "      <td>0.059947</td>\n",
       "    </tr>\n",
       "  </tbody>\n",
       "</table>\n",
       "</div>"
      ],
      "text/plain": [
       "                     Actual_Close  Target     Close        Volume      Open  \\\n",
       "1986-03-14 05:00:00      0.062087     1.0  0.059946  1.031789e+09  0.054594   \n",
       "1986-03-17 05:00:00      0.063158     1.0  0.062087  3.081600e+08  0.059946   \n",
       "1986-03-18 05:00:00      0.061552     0.0  0.063158  1.331712e+08  0.062087   \n",
       "1986-03-19 05:00:00      0.060482     0.0  0.061552  6.776640e+07  0.063158   \n",
       "1986-03-20 05:00:00      0.058876     0.0  0.060482  4.789440e+07  0.061552   \n",
       "\n",
       "                         High       Low  \n",
       "1986-03-14 05:00:00  0.062623  0.054594  \n",
       "1986-03-17 05:00:00  0.063158  0.059946  \n",
       "1986-03-18 05:00:00  0.063694  0.062087  \n",
       "1986-03-19 05:00:00  0.063693  0.061017  \n",
       "1986-03-20 05:00:00  0.062087  0.059947  "
      ]
     },
     "execution_count": 118,
     "metadata": {},
     "output_type": "execute_result"
    }
   ],
   "source": [
    "data.head()"
   ]
  },
  {
   "cell_type": "markdown",
   "id": "c04059b2-5bba-4233-8250-4d11f243130a",
   "metadata": {},
   "source": [
    "## Creating a machine learning model\n",
    "\n",
    "Next, we'll create a machine learning model to see how accurately we can predict the stock price.\n",
    "\n",
    "Because we're dealing with time series data, we can't just use cross-validation to create predictions for the whole dataset.  This will cause leakage where data from the future will be used to predict past prices.  This doesn't match with the real world, and will make us think that our algorithm is much better than it actually is.\n",
    "\n",
    "Instead, we'll split the data sequentially.  We'll start off by predicting just the last 100 rows using the other rows.\n",
    "\n",
    "We'll use a random forest classifier to generate our predictions.  This is a good \"default\" model for a lot of applications, because it can pick up nonlinear relationships in the data, and is somewhat robust to overfitting with the right parameters.\n",
    "\n",
    "This is just to setup our model and ensure that things are working properly.  To get an accurate error metric, we need to backtest across our entire price history.  Once we setup the model, this will be our next step.\n",
    "\n",
    "### Setting up the model\n",
    "\n",
    "First, we'll import a [RandomForestClassifier](https://scikit-learn.org/stable/modules/generated/sklearn.ensemble.RandomForestClassifier.html) from `scikit-learn`.  We can install `scikit-learn` with `pip install scikit-learn`.\n",
    "\n",
    "We're using a classification algorithm because our target is binary (0/1).  A `1` means the price went up, a `0` means it went down.  If we had a different type of target (like the actual price), we might use a regression algorithm.\n",
    "\n",
    "When we initialize the model, we pass in a few parameters:\n",
    "\n",
    "* n_estimators - this is the number of individual decision trees that the algorithm should create.  A random forest is an [ensemble](https://scikit-learn.org/stable/modules/ensemble.html#ensemble) of decision trees that is more robust to overfitting than an individual tree.  The more trees, the more robust the algorithm, but fewer trees means it runs faster.\n",
    "* min_samples_split - this is minimum number of samples any decision tree should split on.  The lower this is, the more prone the trees are to overfitting.  Setting it higher also makes it run faster.\n",
    "* random_state - this is nice to set so that running the algorithm twice over the same data returns the same results."
   ]
  },
  {
   "cell_type": "code",
   "execution_count": 119,
   "id": "b39915f4-912e-4ccd-b1a6-045a1e3ebe9c",
   "metadata": {},
   "outputs": [],
   "source": [
    "from sklearn.ensemble import RandomForestClassifier\n",
    "import numpy as np\n",
    "\n",
    "# Create a random forest classification model.  Set min_samples_split high to ensure we don't overfit.\n",
    "model = RandomForestClassifier(n_estimators=100, min_samples_split=200, random_state=1)"
   ]
  },
  {
   "cell_type": "markdown",
   "id": "e0cd8192-654a-4ad9-b123-089c5f3c8690",
   "metadata": {},
   "source": [
    "### Training the model\n",
    "\n",
    "Once we've setup the model, we can train it on the last `100` rows of the dataset.  We're using all of the data except the last `100` rows to predict the last `100` rows.  When you're working with time series data, it's important to never use future data to predict the past.\n",
    "\n",
    "The [fit](https://scikit-learn.org/stable/modules/generated/sklearn.ensemble.RandomForestClassifier.html#sklearn.ensemble.RandomForestClassifier.fit) method will train the model using our predictors to predict the `Target`."
   ]
  },
  {
   "cell_type": "code",
   "execution_count": 120,
   "id": "fa7c945f-5aa8-461e-a0b8-df5932aba8b2",
   "metadata": {},
   "outputs": [
    {
     "data": {
      "text/html": [
       "<style>#sk-container-id-4 {\n",
       "  /* Definition of color scheme common for light and dark mode */\n",
       "  --sklearn-color-text: black;\n",
       "  --sklearn-color-line: gray;\n",
       "  /* Definition of color scheme for unfitted estimators */\n",
       "  --sklearn-color-unfitted-level-0: #fff5e6;\n",
       "  --sklearn-color-unfitted-level-1: #f6e4d2;\n",
       "  --sklearn-color-unfitted-level-2: #ffe0b3;\n",
       "  --sklearn-color-unfitted-level-3: chocolate;\n",
       "  /* Definition of color scheme for fitted estimators */\n",
       "  --sklearn-color-fitted-level-0: #f0f8ff;\n",
       "  --sklearn-color-fitted-level-1: #d4ebff;\n",
       "  --sklearn-color-fitted-level-2: #b3dbfd;\n",
       "  --sklearn-color-fitted-level-3: cornflowerblue;\n",
       "\n",
       "  /* Specific color for light theme */\n",
       "  --sklearn-color-text-on-default-background: var(--sg-text-color, var(--theme-code-foreground, var(--jp-content-font-color1, black)));\n",
       "  --sklearn-color-background: var(--sg-background-color, var(--theme-background, var(--jp-layout-color0, white)));\n",
       "  --sklearn-color-border-box: var(--sg-text-color, var(--theme-code-foreground, var(--jp-content-font-color1, black)));\n",
       "  --sklearn-color-icon: #696969;\n",
       "\n",
       "  @media (prefers-color-scheme: dark) {\n",
       "    /* Redefinition of color scheme for dark theme */\n",
       "    --sklearn-color-text-on-default-background: var(--sg-text-color, var(--theme-code-foreground, var(--jp-content-font-color1, white)));\n",
       "    --sklearn-color-background: var(--sg-background-color, var(--theme-background, var(--jp-layout-color0, #111)));\n",
       "    --sklearn-color-border-box: var(--sg-text-color, var(--theme-code-foreground, var(--jp-content-font-color1, white)));\n",
       "    --sklearn-color-icon: #878787;\n",
       "  }\n",
       "}\n",
       "\n",
       "#sk-container-id-4 {\n",
       "  color: var(--sklearn-color-text);\n",
       "}\n",
       "\n",
       "#sk-container-id-4 pre {\n",
       "  padding: 0;\n",
       "}\n",
       "\n",
       "#sk-container-id-4 input.sk-hidden--visually {\n",
       "  border: 0;\n",
       "  clip: rect(1px 1px 1px 1px);\n",
       "  clip: rect(1px, 1px, 1px, 1px);\n",
       "  height: 1px;\n",
       "  margin: -1px;\n",
       "  overflow: hidden;\n",
       "  padding: 0;\n",
       "  position: absolute;\n",
       "  width: 1px;\n",
       "}\n",
       "\n",
       "#sk-container-id-4 div.sk-dashed-wrapped {\n",
       "  border: 1px dashed var(--sklearn-color-line);\n",
       "  margin: 0 0.4em 0.5em 0.4em;\n",
       "  box-sizing: border-box;\n",
       "  padding-bottom: 0.4em;\n",
       "  background-color: var(--sklearn-color-background);\n",
       "}\n",
       "\n",
       "#sk-container-id-4 div.sk-container {\n",
       "  /* jupyter's `normalize.less` sets `[hidden] { display: none; }`\n",
       "     but bootstrap.min.css set `[hidden] { display: none !important; }`\n",
       "     so we also need the `!important` here to be able to override the\n",
       "     default hidden behavior on the sphinx rendered scikit-learn.org.\n",
       "     See: https://github.com/scikit-learn/scikit-learn/issues/21755 */\n",
       "  display: inline-block !important;\n",
       "  position: relative;\n",
       "}\n",
       "\n",
       "#sk-container-id-4 div.sk-text-repr-fallback {\n",
       "  display: none;\n",
       "}\n",
       "\n",
       "div.sk-parallel-item,\n",
       "div.sk-serial,\n",
       "div.sk-item {\n",
       "  /* draw centered vertical line to link estimators */\n",
       "  background-image: linear-gradient(var(--sklearn-color-text-on-default-background), var(--sklearn-color-text-on-default-background));\n",
       "  background-size: 2px 100%;\n",
       "  background-repeat: no-repeat;\n",
       "  background-position: center center;\n",
       "}\n",
       "\n",
       "/* Parallel-specific style estimator block */\n",
       "\n",
       "#sk-container-id-4 div.sk-parallel-item::after {\n",
       "  content: \"\";\n",
       "  width: 100%;\n",
       "  border-bottom: 2px solid var(--sklearn-color-text-on-default-background);\n",
       "  flex-grow: 1;\n",
       "}\n",
       "\n",
       "#sk-container-id-4 div.sk-parallel {\n",
       "  display: flex;\n",
       "  align-items: stretch;\n",
       "  justify-content: center;\n",
       "  background-color: var(--sklearn-color-background);\n",
       "  position: relative;\n",
       "}\n",
       "\n",
       "#sk-container-id-4 div.sk-parallel-item {\n",
       "  display: flex;\n",
       "  flex-direction: column;\n",
       "}\n",
       "\n",
       "#sk-container-id-4 div.sk-parallel-item:first-child::after {\n",
       "  align-self: flex-end;\n",
       "  width: 50%;\n",
       "}\n",
       "\n",
       "#sk-container-id-4 div.sk-parallel-item:last-child::after {\n",
       "  align-self: flex-start;\n",
       "  width: 50%;\n",
       "}\n",
       "\n",
       "#sk-container-id-4 div.sk-parallel-item:only-child::after {\n",
       "  width: 0;\n",
       "}\n",
       "\n",
       "/* Serial-specific style estimator block */\n",
       "\n",
       "#sk-container-id-4 div.sk-serial {\n",
       "  display: flex;\n",
       "  flex-direction: column;\n",
       "  align-items: center;\n",
       "  background-color: var(--sklearn-color-background);\n",
       "  padding-right: 1em;\n",
       "  padding-left: 1em;\n",
       "}\n",
       "\n",
       "\n",
       "/* Toggleable style: style used for estimator/Pipeline/ColumnTransformer box that is\n",
       "clickable and can be expanded/collapsed.\n",
       "- Pipeline and ColumnTransformer use this feature and define the default style\n",
       "- Estimators will overwrite some part of the style using the `sk-estimator` class\n",
       "*/\n",
       "\n",
       "/* Pipeline and ColumnTransformer style (default) */\n",
       "\n",
       "#sk-container-id-4 div.sk-toggleable {\n",
       "  /* Default theme specific background. It is overwritten whether we have a\n",
       "  specific estimator or a Pipeline/ColumnTransformer */\n",
       "  background-color: var(--sklearn-color-background);\n",
       "}\n",
       "\n",
       "/* Toggleable label */\n",
       "#sk-container-id-4 label.sk-toggleable__label {\n",
       "  cursor: pointer;\n",
       "  display: block;\n",
       "  width: 100%;\n",
       "  margin-bottom: 0;\n",
       "  padding: 0.5em;\n",
       "  box-sizing: border-box;\n",
       "  text-align: center;\n",
       "}\n",
       "\n",
       "#sk-container-id-4 label.sk-toggleable__label-arrow:before {\n",
       "  /* Arrow on the left of the label */\n",
       "  content: \"▸\";\n",
       "  float: left;\n",
       "  margin-right: 0.25em;\n",
       "  color: var(--sklearn-color-icon);\n",
       "}\n",
       "\n",
       "#sk-container-id-4 label.sk-toggleable__label-arrow:hover:before {\n",
       "  color: var(--sklearn-color-text);\n",
       "}\n",
       "\n",
       "/* Toggleable content - dropdown */\n",
       "\n",
       "#sk-container-id-4 div.sk-toggleable__content {\n",
       "  max-height: 0;\n",
       "  max-width: 0;\n",
       "  overflow: hidden;\n",
       "  text-align: left;\n",
       "  /* unfitted */\n",
       "  background-color: var(--sklearn-color-unfitted-level-0);\n",
       "}\n",
       "\n",
       "#sk-container-id-4 div.sk-toggleable__content.fitted {\n",
       "  /* fitted */\n",
       "  background-color: var(--sklearn-color-fitted-level-0);\n",
       "}\n",
       "\n",
       "#sk-container-id-4 div.sk-toggleable__content pre {\n",
       "  margin: 0.2em;\n",
       "  border-radius: 0.25em;\n",
       "  color: var(--sklearn-color-text);\n",
       "  /* unfitted */\n",
       "  background-color: var(--sklearn-color-unfitted-level-0);\n",
       "}\n",
       "\n",
       "#sk-container-id-4 div.sk-toggleable__content.fitted pre {\n",
       "  /* unfitted */\n",
       "  background-color: var(--sklearn-color-fitted-level-0);\n",
       "}\n",
       "\n",
       "#sk-container-id-4 input.sk-toggleable__control:checked~div.sk-toggleable__content {\n",
       "  /* Expand drop-down */\n",
       "  max-height: 200px;\n",
       "  max-width: 100%;\n",
       "  overflow: auto;\n",
       "}\n",
       "\n",
       "#sk-container-id-4 input.sk-toggleable__control:checked~label.sk-toggleable__label-arrow:before {\n",
       "  content: \"▾\";\n",
       "}\n",
       "\n",
       "/* Pipeline/ColumnTransformer-specific style */\n",
       "\n",
       "#sk-container-id-4 div.sk-label input.sk-toggleable__control:checked~label.sk-toggleable__label {\n",
       "  color: var(--sklearn-color-text);\n",
       "  background-color: var(--sklearn-color-unfitted-level-2);\n",
       "}\n",
       "\n",
       "#sk-container-id-4 div.sk-label.fitted input.sk-toggleable__control:checked~label.sk-toggleable__label {\n",
       "  background-color: var(--sklearn-color-fitted-level-2);\n",
       "}\n",
       "\n",
       "/* Estimator-specific style */\n",
       "\n",
       "/* Colorize estimator box */\n",
       "#sk-container-id-4 div.sk-estimator input.sk-toggleable__control:checked~label.sk-toggleable__label {\n",
       "  /* unfitted */\n",
       "  background-color: var(--sklearn-color-unfitted-level-2);\n",
       "}\n",
       "\n",
       "#sk-container-id-4 div.sk-estimator.fitted input.sk-toggleable__control:checked~label.sk-toggleable__label {\n",
       "  /* fitted */\n",
       "  background-color: var(--sklearn-color-fitted-level-2);\n",
       "}\n",
       "\n",
       "#sk-container-id-4 div.sk-label label.sk-toggleable__label,\n",
       "#sk-container-id-4 div.sk-label label {\n",
       "  /* The background is the default theme color */\n",
       "  color: var(--sklearn-color-text-on-default-background);\n",
       "}\n",
       "\n",
       "/* On hover, darken the color of the background */\n",
       "#sk-container-id-4 div.sk-label:hover label.sk-toggleable__label {\n",
       "  color: var(--sklearn-color-text);\n",
       "  background-color: var(--sklearn-color-unfitted-level-2);\n",
       "}\n",
       "\n",
       "/* Label box, darken color on hover, fitted */\n",
       "#sk-container-id-4 div.sk-label.fitted:hover label.sk-toggleable__label.fitted {\n",
       "  color: var(--sklearn-color-text);\n",
       "  background-color: var(--sklearn-color-fitted-level-2);\n",
       "}\n",
       "\n",
       "/* Estimator label */\n",
       "\n",
       "#sk-container-id-4 div.sk-label label {\n",
       "  font-family: monospace;\n",
       "  font-weight: bold;\n",
       "  display: inline-block;\n",
       "  line-height: 1.2em;\n",
       "}\n",
       "\n",
       "#sk-container-id-4 div.sk-label-container {\n",
       "  text-align: center;\n",
       "}\n",
       "\n",
       "/* Estimator-specific */\n",
       "#sk-container-id-4 div.sk-estimator {\n",
       "  font-family: monospace;\n",
       "  border: 1px dotted var(--sklearn-color-border-box);\n",
       "  border-radius: 0.25em;\n",
       "  box-sizing: border-box;\n",
       "  margin-bottom: 0.5em;\n",
       "  /* unfitted */\n",
       "  background-color: var(--sklearn-color-unfitted-level-0);\n",
       "}\n",
       "\n",
       "#sk-container-id-4 div.sk-estimator.fitted {\n",
       "  /* fitted */\n",
       "  background-color: var(--sklearn-color-fitted-level-0);\n",
       "}\n",
       "\n",
       "/* on hover */\n",
       "#sk-container-id-4 div.sk-estimator:hover {\n",
       "  /* unfitted */\n",
       "  background-color: var(--sklearn-color-unfitted-level-2);\n",
       "}\n",
       "\n",
       "#sk-container-id-4 div.sk-estimator.fitted:hover {\n",
       "  /* fitted */\n",
       "  background-color: var(--sklearn-color-fitted-level-2);\n",
       "}\n",
       "\n",
       "/* Specification for estimator info (e.g. \"i\" and \"?\") */\n",
       "\n",
       "/* Common style for \"i\" and \"?\" */\n",
       "\n",
       ".sk-estimator-doc-link,\n",
       "a:link.sk-estimator-doc-link,\n",
       "a:visited.sk-estimator-doc-link {\n",
       "  float: right;\n",
       "  font-size: smaller;\n",
       "  line-height: 1em;\n",
       "  font-family: monospace;\n",
       "  background-color: var(--sklearn-color-background);\n",
       "  border-radius: 1em;\n",
       "  height: 1em;\n",
       "  width: 1em;\n",
       "  text-decoration: none !important;\n",
       "  margin-left: 1ex;\n",
       "  /* unfitted */\n",
       "  border: var(--sklearn-color-unfitted-level-1) 1pt solid;\n",
       "  color: var(--sklearn-color-unfitted-level-1);\n",
       "}\n",
       "\n",
       ".sk-estimator-doc-link.fitted,\n",
       "a:link.sk-estimator-doc-link.fitted,\n",
       "a:visited.sk-estimator-doc-link.fitted {\n",
       "  /* fitted */\n",
       "  border: var(--sklearn-color-fitted-level-1) 1pt solid;\n",
       "  color: var(--sklearn-color-fitted-level-1);\n",
       "}\n",
       "\n",
       "/* On hover */\n",
       "div.sk-estimator:hover .sk-estimator-doc-link:hover,\n",
       ".sk-estimator-doc-link:hover,\n",
       "div.sk-label-container:hover .sk-estimator-doc-link:hover,\n",
       ".sk-estimator-doc-link:hover {\n",
       "  /* unfitted */\n",
       "  background-color: var(--sklearn-color-unfitted-level-3);\n",
       "  color: var(--sklearn-color-background);\n",
       "  text-decoration: none;\n",
       "}\n",
       "\n",
       "div.sk-estimator.fitted:hover .sk-estimator-doc-link.fitted:hover,\n",
       ".sk-estimator-doc-link.fitted:hover,\n",
       "div.sk-label-container:hover .sk-estimator-doc-link.fitted:hover,\n",
       ".sk-estimator-doc-link.fitted:hover {\n",
       "  /* fitted */\n",
       "  background-color: var(--sklearn-color-fitted-level-3);\n",
       "  color: var(--sklearn-color-background);\n",
       "  text-decoration: none;\n",
       "}\n",
       "\n",
       "/* Span, style for the box shown on hovering the info icon */\n",
       ".sk-estimator-doc-link span {\n",
       "  display: none;\n",
       "  z-index: 9999;\n",
       "  position: relative;\n",
       "  font-weight: normal;\n",
       "  right: .2ex;\n",
       "  padding: .5ex;\n",
       "  margin: .5ex;\n",
       "  width: min-content;\n",
       "  min-width: 20ex;\n",
       "  max-width: 50ex;\n",
       "  color: var(--sklearn-color-text);\n",
       "  box-shadow: 2pt 2pt 4pt #999;\n",
       "  /* unfitted */\n",
       "  background: var(--sklearn-color-unfitted-level-0);\n",
       "  border: .5pt solid var(--sklearn-color-unfitted-level-3);\n",
       "}\n",
       "\n",
       ".sk-estimator-doc-link.fitted span {\n",
       "  /* fitted */\n",
       "  background: var(--sklearn-color-fitted-level-0);\n",
       "  border: var(--sklearn-color-fitted-level-3);\n",
       "}\n",
       "\n",
       ".sk-estimator-doc-link:hover span {\n",
       "  display: block;\n",
       "}\n",
       "\n",
       "/* \"?\"-specific style due to the `<a>` HTML tag */\n",
       "\n",
       "#sk-container-id-4 a.estimator_doc_link {\n",
       "  float: right;\n",
       "  font-size: 1rem;\n",
       "  line-height: 1em;\n",
       "  font-family: monospace;\n",
       "  background-color: var(--sklearn-color-background);\n",
       "  border-radius: 1rem;\n",
       "  height: 1rem;\n",
       "  width: 1rem;\n",
       "  text-decoration: none;\n",
       "  /* unfitted */\n",
       "  color: var(--sklearn-color-unfitted-level-1);\n",
       "  border: var(--sklearn-color-unfitted-level-1) 1pt solid;\n",
       "}\n",
       "\n",
       "#sk-container-id-4 a.estimator_doc_link.fitted {\n",
       "  /* fitted */\n",
       "  border: var(--sklearn-color-fitted-level-1) 1pt solid;\n",
       "  color: var(--sklearn-color-fitted-level-1);\n",
       "}\n",
       "\n",
       "/* On hover */\n",
       "#sk-container-id-4 a.estimator_doc_link:hover {\n",
       "  /* unfitted */\n",
       "  background-color: var(--sklearn-color-unfitted-level-3);\n",
       "  color: var(--sklearn-color-background);\n",
       "  text-decoration: none;\n",
       "}\n",
       "\n",
       "#sk-container-id-4 a.estimator_doc_link.fitted:hover {\n",
       "  /* fitted */\n",
       "  background-color: var(--sklearn-color-fitted-level-3);\n",
       "}\n",
       "</style><div id=\"sk-container-id-4\" class=\"sk-top-container\"><div class=\"sk-text-repr-fallback\"><pre>RandomForestClassifier(min_samples_split=200, random_state=1)</pre><b>In a Jupyter environment, please rerun this cell to show the HTML representation or trust the notebook. <br />On GitHub, the HTML representation is unable to render, please try loading this page with nbviewer.org.</b></div><div class=\"sk-container\" hidden><div class=\"sk-item\"><div class=\"sk-estimator fitted sk-toggleable\"><input class=\"sk-toggleable__control sk-hidden--visually\" id=\"sk-estimator-id-4\" type=\"checkbox\" checked><label for=\"sk-estimator-id-4\" class=\"sk-toggleable__label fitted sk-toggleable__label-arrow fitted\">&nbsp;&nbsp;RandomForestClassifier<a class=\"sk-estimator-doc-link fitted\" rel=\"noreferrer\" target=\"_blank\" href=\"https://scikit-learn.org/1.5/modules/generated/sklearn.ensemble.RandomForestClassifier.html\">?<span>Documentation for RandomForestClassifier</span></a><span class=\"sk-estimator-doc-link fitted\">i<span>Fitted</span></span></label><div class=\"sk-toggleable__content fitted\"><pre>RandomForestClassifier(min_samples_split=200, random_state=1)</pre></div> </div></div></div></div>"
      ],
      "text/plain": [
       "RandomForestClassifier(min_samples_split=200, random_state=1)"
      ]
     },
     "execution_count": 120,
     "metadata": {},
     "output_type": "execute_result"
    }
   ],
   "source": [
    "# Create a train and test set\n",
    "train = data.iloc[:-100]\n",
    "test = data.iloc[-100:]\n",
    "\n",
    "model.fit(train[predictors], train[\"Target\"])"
   ]
  },
  {
   "cell_type": "markdown",
   "id": "1e7c7e8f-987f-415d-a650-bae50cb9c623",
   "metadata": {},
   "source": [
    "### Measuring error\n",
    "\n",
    "Next, we'll need to check how accurate the model was.  Earlier, we mentioned using `precision` to measure error.  We can do this by using the `precision_score` function from scikit-learn.\n",
    "\n",
    "Precision will tell us on what % of days that the algorithm said the price would go up it actually went up.  Because we want to minimize risk, we want to have a high precision.  This means that when we buy stock, we have high confidence that we'll make money.\n",
    "\n",
    "Below, we do the following to calculate precision:\n",
    "\n",
    "* Import the scikit-learn `precision_score` function\n",
    "* Generate predictions from our model using the [predict](https://scikit-learn.org/stable/modules/generated/sklearn.ensemble.RandomForestClassifier.html#sklearn.ensemble.RandomForestClassifier.predict) function.  This will give us a `0` or a `1` for each row.\n",
    "* The `predict` method returns a numpy array.  To make it easier to work with, we'll turn it into a pandas Series.\n",
    "* Finally, we execute the `precision_score` function, passing in the predictions and the target.\n",
    "\n",
    "As you can see below, our precision is only `.51`, which is not great.  That means that when the model predicted that prices would go up, they only went up `51%` of the time."
   ]
  },
  {
   "cell_type": "code",
   "execution_count": 121,
   "id": "5166dc96-9c6b-476a-9755-6f2e6a2e45f1",
   "metadata": {},
   "outputs": [
    {
     "data": {
      "text/plain": [
       "np.float64(0.4883720930232558)"
      ]
     },
     "execution_count": 121,
     "metadata": {},
     "output_type": "execute_result"
    }
   ],
   "source": [
    "from sklearn.metrics import precision_score\n",
    "\n",
    "# Evaluate error of predictions\n",
    "preds = model.predict(test[predictors])\n",
    "preds = pd.Series(preds, index=test.index)\n",
    "precision_score(test[\"Target\"], preds)"
   ]
  },
  {
   "cell_type": "markdown",
   "id": "ad90cf27-9308-41b8-87eb-fe0b99f09e08",
   "metadata": {},
   "source": [
    "Our model is directionally accurate 51% of the time.  This is only a little bit better than a coin flip!  We can take a deeper look at the individual predictions and the actuals, and see where we're off.\n",
    "\n",
    "We can do this by plotting the target against the predictions.  We do this by first combining the `Target` column and `Predictions` column into one DataFrame using the [concat](https://pandas.pydata.org/docs/reference/api/pandas.concat.html?highlight=concat#pandas.concat) function.  This function joins two pandas objects.  In this case, each object is a series, so we want to join them on `axis=1`, so each one becomes a column.\n",
    "\n",
    "Then, we can plot the DataFrame to visualize both columns.\n",
    "\n",
    "As we can see, the model predicted that the price would go up every single day.  This is not ideal, but we've setup the model, and can now move on to backtesting."
   ]
  },
  {
   "cell_type": "code",
   "execution_count": 122,
   "id": "bf74e107-1fea-447d-a659-ddf18c016b5e",
   "metadata": {},
   "outputs": [
    {
     "data": {
      "text/plain": [
       "<Axes: >"
      ]
     },
     "execution_count": 122,
     "metadata": {},
     "output_type": "execute_result"
    },
    {
     "data": {
      "image/png": "[encoded data removed]",
      "text/plain": [
       "<Figure size 640x480 with 1 Axes>"
      ]
     },
     "metadata": {},
     "output_type": "display_data"
    }
   ],
   "source": [
    "combined = pd.concat({\"Target\": test[\"Target\"],\"Predictions\": preds}, axis=1)\n",
    "combined.plot()"
   ]
  },
  {
   "cell_type": "markdown",
   "id": "deed266d-549c-4fc7-9934-5b9b249d0376",
   "metadata": {},
   "source": [
    "## Backtesting\n",
    "\n",
    "Our model isn't great, but luckily we can still improve it.  Before we do that, let's figure out how to make predictions across the entire dataset, not just the last 100 rows.  This will give us a more robust error estimate.  The last 100 days may have had atypical market conditions or other issues that make error metrics on those days unrealistic for future predictions (which are what we really care about).\n",
    "\n",
    "You wouldn't want to use an algorithm for anything in the real world if you only had 100 days of data to test it on.\n",
    "\n",
    "To test on more days, we'll need to backtest.  Backtesting ensures that we only use data from before the day that we're predicting.  If we use data from after the day we're predicting, the algorithm is unrealistic (in the real world, you won't be able to use future data to predict that past!).\n",
    "\n",
    "Our backtesting method will loop over the dataset, and train a model every `750` rows.  We'll make it a function so we can avoid rewriting the code if we want to backtest again.  Ideally, we'd train a model more often than every `750` rows, but for speed purposes we will set the number high.\n",
    "\n",
    "Before we write our full backtesting loop, let's write the code for a single iteration.  In the below code:\n",
    "\n",
    "* We'll take the first 1000 rows of the data as our training set\n",
    "* We'll take the next 750 rows as our testing set\n",
    "* We'll fit our machine learning model to the training set\n",
    "* We'll make predictions on the test set\n",
    "\n",
    "This is similar to what we did before, but we changed which rows we're looking at:"
   ]
  },
  {
   "cell_type": "code",
   "execution_count": 123,
   "id": "c8def4c9-4e36-4fe5-a10f-3b1a1407144a",
   "metadata": {},
   "outputs": [],
   "source": [
    "i = 1000\n",
    "step = 750\n",
    "\n",
    "train = data.iloc[0:i].copy()\n",
    "test = data.iloc[i:(i+step)].copy()\n",
    "model.fit(train[predictors], train[\"Target\"])\n",
    "preds = model.predict(test[predictors])"
   ]
  },
  {
   "cell_type": "markdown",
   "id": "69f4fe86-fb3a-4879-9c56-d986fee55243",
   "metadata": {},
   "source": [
    "### Predicting probabilities\n",
    "\n",
    "Next, let's add a little bit more precision.  We're using the [predict](https://scikit-learn.org/stable/modules/generated/sklearn.ensemble.RandomForestClassifier.html#sklearn.ensemble.RandomForestClassifier.predict) method to generate predictions.  However, this method doesn't optimize for `precision`, which is what we care about.\n",
    "\n",
    "By default, if the model thinks there is a 50% or higher chance of the price going up, it predicts that the price will go up.  Let's adjust this threshold to make the model only predict the price will go up when it is more confident.  We'll set this threshold to `.6`.\n",
    "\n",
    "To do this, we need to use the [predict_proba](https://scikit-learn.org/stable/modules/generated/sklearn.ensemble.RandomForestClassifier.html#sklearn.ensemble.RandomForestClassifier.predict_proba) method.  This method enables us to get the raw probabilities, not just `0/1`.\n",
    "\n",
    "In the code below, we:\n",
    "\n",
    "* Use the `predict_proba` method to get the probabilities that the price will go up instead of just `0/1`.\n",
    "* Take the second column of the result, to ensure that we only get the probability that the price will go up.\n",
    "* convert the result from a numpy array to a pandas Series to make it easier to work with.\n",
    "* If the % chance that the price will go up is >60%, then say the price will go up.\n",
    "\n",
    "As you can see, `preds` gives us the prediction of the model on each day."
   ]
  },
  {
   "cell_type": "code",
   "execution_count": 124,
   "id": "2b5318c2-c189-4c76-820a-ef21621a19d7",
   "metadata": {},
   "outputs": [],
   "source": [
    "preds = model.predict_proba(test[predictors])[:,1]\n",
    "preds = pd.Series(preds, index=test.index)\n",
    "preds[preds > .6] = 1\n",
    "preds[preds<=.6] = 0"
   ]
  },
  {
   "cell_type": "code",
   "execution_count": 125,
   "id": "501340c3-c5fd-4ca6-a96e-c9e427222523",
   "metadata": {},
   "outputs": [
    {
     "data": {
      "text/plain": [
       "1990-02-27 05:00:00    1.0\n",
       "1990-02-28 05:00:00    1.0\n",
       "1990-03-01 05:00:00    1.0\n",
       "1990-03-02 05:00:00    1.0\n",
       "1990-03-05 05:00:00    1.0\n",
       "dtype: float64"
      ]
     },
     "execution_count": 125,
     "metadata": {},
     "output_type": "execute_result"
    }
   ],
   "source": [
    "preds.head()"
   ]
  },
  {
   "cell_type": "markdown",
   "id": "d9678005-f475-41a1-880e-db6af3f0d03c",
   "metadata": {},
   "source": [
    "### Pulling it into a loop\n",
    "\n",
    "Next, we can pull together everything we have done into a loop.  This loop will enable us to iterate across the entire dataset, generate predictions, and add them into the `predictions` list.\n",
    "\n",
    "We'll get predictions for all but the first 1000 rows of the dataset.  This is because there is no previous data we can use to predict those rows.\n",
    "\n",
    "In this loop, we:\n",
    "\n",
    "* Generate predictions on our train and test set\n",
    "* Combine those predictions with the actual target\n",
    "* Add all the predictions into one list\n",
    "\n",
    "As you can see, looking at the first element of the `predictions` list shows us the actual `Target` and the `Predictions` our model made."
   ]
  },
  {
   "cell_type": "code",
   "execution_count": 126,
   "id": "0325d689-9b52-436f-b9fc-48224766d568",
   "metadata": {},
   "outputs": [],
   "source": [
    "predictions = []\n",
    "# Loop over the dataset in increments\n",
    "for i in range(1000, data.shape[0], step):\n",
    "    # Split into train and test sets\n",
    "    train = data.iloc[0:i].copy()\n",
    "    test = data.iloc[i:(i+step)].copy()\n",
    "\n",
    "    # Fit the random forest model\n",
    "    model.fit(train[predictors], train[\"Target\"])\n",
    "\n",
    "    # Make predictions\n",
    "    preds = model.predict_proba(test[predictors])[:,1]\n",
    "    preds = pd.Series(preds, index=test.index)\n",
    "    preds[preds > .6] = 1\n",
    "    preds[preds<=.6] = 0\n",
    "\n",
    "    # Combine predictions and test values\n",
    "    combined = pd.concat({\"Target\": test[\"Target\"],\"Predictions\": preds}, axis=1)\n",
    "\n",
    "    predictions.append(combined)"
   ]
  },
  {
   "cell_type": "code",
   "execution_count": 127,
   "id": "fe044d86-3383-41b6-bb86-cf0470f4f6fa",
   "metadata": {},
   "outputs": [
    {
     "data": {
      "text/html": [
       "<div>\n",
       "<style scoped>\n",
       "    .dataframe tbody tr th:only-of-type {\n",
       "        vertical-align: middle;\n",
       "    }\n",
       "\n",
       "    .dataframe tbody tr th {\n",
       "        vertical-align: top;\n",
       "    }\n",
       "\n",
       "    .dataframe thead th {\n",
       "        text-align: right;\n",
       "    }\n",
       "</style>\n",
       "<table border=\"1\" class=\"dataframe\">\n",
       "  <thead>\n",
       "    <tr style=\"text-align: right;\">\n",
       "      <th></th>\n",
       "      <th>Target</th>\n",
       "      <th>Predictions</th>\n",
       "    </tr>\n",
       "  </thead>\n",
       "  <tbody>\n",
       "    <tr>\n",
       "      <th>1990-02-27 05:00:00</th>\n",
       "      <td>0.0</td>\n",
       "      <td>1.0</td>\n",
       "    </tr>\n",
       "    <tr>\n",
       "      <th>1990-02-28 05:00:00</th>\n",
       "      <td>1.0</td>\n",
       "      <td>1.0</td>\n",
       "    </tr>\n",
       "    <tr>\n",
       "      <th>1990-03-01 05:00:00</th>\n",
       "      <td>1.0</td>\n",
       "      <td>1.0</td>\n",
       "    </tr>\n",
       "    <tr>\n",
       "      <th>1990-03-02 05:00:00</th>\n",
       "      <td>1.0</td>\n",
       "      <td>1.0</td>\n",
       "    </tr>\n",
       "    <tr>\n",
       "      <th>1990-03-05 05:00:00</th>\n",
       "      <td>1.0</td>\n",
       "      <td>1.0</td>\n",
       "    </tr>\n",
       "  </tbody>\n",
       "</table>\n",
       "</div>"
      ],
      "text/plain": [
       "                     Target  Predictions\n",
       "1990-02-27 05:00:00     0.0          1.0\n",
       "1990-02-28 05:00:00     1.0          1.0\n",
       "1990-03-01 05:00:00     1.0          1.0\n",
       "1990-03-02 05:00:00     1.0          1.0\n",
       "1990-03-05 05:00:00     1.0          1.0"
      ]
     },
     "execution_count": 127,
     "metadata": {},
     "output_type": "execute_result"
    }
   ],
   "source": [
    "predictions[0].head()"
   ]
  },
  {
   "cell_type": "markdown",
   "id": "d9ac65e5-6628-41fa-9025-f02d409b8ed2",
   "metadata": {},
   "source": [
    "### Creating a backtesting function\n",
    "\n",
    "Finally, we'll wrap the loop in a function, to make it easier to work with.  A function means we can easily call it later.  The function will take the `data`, the machine learning `model`, and the `predictors` as inputs.  We'll also set `start` and `step` as optional parameters.  \n",
    "\n",
    "In the backtesting function, we will:\n",
    "\n",
    "* Split the training and test data\n",
    "* Train a model\n",
    "* Make predictions on the test data using `predict_proba`\n",
    "* Combine our predictions with the actual Target, so we can calculate error easily\n",
    "* Return all of the predictions\n",
    "\n",
    "This function will enable us to create predictions across our whole dataset whenever we want."
   ]
  },
  {
   "cell_type": "code",
   "execution_count": 128,
   "id": "9687c1d4-1be0-47f4-9fa7-cf8452c74c72",
   "metadata": {},
   "outputs": [],
   "source": [
    "def backtest(data, model, predictors, start=1000, step=750):\n",
    "    predictions = []\n",
    "    # Loop over the dataset in increments\n",
    "    for i in range(start, data.shape[0], step):\n",
    "        # Split into train and test sets\n",
    "        train = data.iloc[0:i].copy()\n",
    "        test = data.iloc[i:(i+step)].copy()\n",
    "        \n",
    "        # Fit the random forest model\n",
    "        model.fit(train[predictors], train[\"Target\"])\n",
    "        \n",
    "        # Make predictions\n",
    "        preds = model.predict_proba(test[predictors])[:,1]\n",
    "        preds = pd.Series(preds, index=test.index)\n",
    "        preds[preds > .6] = 1\n",
    "        preds[preds<=.6] = 0\n",
    "        \n",
    "        # Combine predictions and test values\n",
    "        combined = pd.concat({\"Target\": test[\"Target\"],\"Predictions\": preds}, axis=1)\n",
    "        \n",
    "        predictions.append(combined)\n",
    "    \n",
    "    return pd.concat(predictions)"
   ]
  },
  {
   "cell_type": "markdown",
   "id": "7f7565a8-1f93-413e-9872-773c0dff1c3a",
   "metadata": {},
   "source": [
    "### Running the function\n",
    "\n",
    "Now that we've created a backtesting function, we can call it to generate predictions across the entire dataset."
   ]
  },
  {
   "cell_type": "code",
   "execution_count": 129,
   "id": "6a5ee41b-cc06-45fd-af4a-e7fbfda0bd47",
   "metadata": {},
   "outputs": [],
   "source": [
    "predictions = backtest(data, model, predictors)"
   ]
  },
  {
   "cell_type": "markdown",
   "id": "d04f08f0-93c9-4e48-906b-095c9a48a5e5",
   "metadata": {},
   "source": [
    "Next, let's use the [value_counts](https://pandas.pydata.org/docs/reference/api/pandas.Series.value_counts.html?highlight=value_counts#pandas.Series.value_counts) method to identify how many times the algorithm predicted the price would go up versus down. \n",
    "\n",
    "As you can see, the algorithm only predicted that the price would go up `739` times.  In the `Target`, you see that the price actually went up `3945` times.  So the algorithm predicted the price would go up far fewer times than it actually did.  This means that the algorithm had low `recall`, which is the % chance of finding all of the days where the price went up.\n",
    "\n",
    "This is because we used `.6` as a threshold for whether the price would go up or not.  If we used a lower threshold, we would increase recall, but lower precision.  Since we want to minimize our risk, we want to maximize precision.  So it's okay if the algorithm only predicts the price will go up on very few days."
   ]
  },
  {
   "cell_type": "code",
   "execution_count": 130,
   "id": "6920d4b0-98a0-4ede-aa71-daa00d9dee58",
   "metadata": {},
   "outputs": [
    {
     "data": {
      "text/plain": [
       "Predictions\n",
       "0.0    7994\n",
       "1.0     754\n",
       "Name: count, dtype: int64"
      ]
     },
     "execution_count": 130,
     "metadata": {},
     "output_type": "execute_result"
    }
   ],
   "source": [
    "predictions[\"Predictions\"].value_counts()"
   ]
  },
  {
   "cell_type": "code",
   "execution_count": 131,
   "id": "b07f4cfe-ac18-4878-b330-4cd0719b71ac",
   "metadata": {},
   "outputs": [
    {
     "data": {
      "text/plain": [
       "Target\n",
       "1.0    4444\n",
       "0.0    4304\n",
       "Name: count, dtype: int64"
      ]
     },
     "execution_count": 131,
     "metadata": {},
     "output_type": "execute_result"
    }
   ],
   "source": [
    "predictions[\"Target\"].value_counts()"
   ]
  },
  {
   "cell_type": "markdown",
   "id": "06608c79-7314-4a37-9196-9bb71dab9454",
   "metadata": {},
   "source": [
    "Finally, let's look at precision.  We can use the same function from before to evaluate this.\n",
    "\n",
    "It looks like we have a low precision as well.  This is because the algorithm has limited `predictors` to help it determine if the price will go up or down.  We'll add some more predictors next to help the algorithm make better decisions."
   ]
  },
  {
   "cell_type": "code",
   "execution_count": 132,
   "id": "e88b3291-e672-4115-b825-a72f298e0fd2",
   "metadata": {},
   "outputs": [
    {
     "data": {
      "text/plain": [
       "np.float64(0.5026525198938993)"
      ]
     },
     "execution_count": 132,
     "metadata": {},
     "output_type": "execute_result"
    }
   ],
   "source": [
    "precision_score(predictions[\"Target\"], predictions[\"Predictions\"])"
   ]
  },
  {
   "cell_type": "markdown",
   "id": "1bfe3afb-c02b-49a1-80b6-61af0a07b680",
   "metadata": {},
   "source": [
    "## Improving accuracy\n",
    "\n",
    "The model isn't very accurate, but at least now we can make predictions across the entire history of the stock.  For this model to be useful, we have to get it to predict more accurately.\n",
    "\n",
    "Let's add some more predictors to see if we can improve accuracy.\n",
    "\n",
    "We'll add in some rolling means, so the model can evaluate the current price against recent prices.  We'll also look at the ratios between different indicators.\n",
    "\n",
    "### Rolling means\n",
    "\n",
    "Rolling means are useful because they can help the algorithm evaluate the current price against the average price this week, quarter, or year.  For example, if the price now is higher than the annual price, it could mean that the stock is on an upward trend.\n",
    "\n",
    "To calculate the rolling averages, we'll again use the pandas [rolling](https://pandas.pydata.org/docs/reference/api/pandas.DataFrame.rolling.html?highlight=rolling#pandas.DataFrame.rolling) method to find the rolling mean of the `Close` column for different time horizons."
   ]
  },
  {
   "cell_type": "code",
   "execution_count": 133,
   "id": "c626bb8e-4798-4ae2-a71d-aa35ee3a2f1f",
   "metadata": {},
   "outputs": [],
   "source": [
    "weekly_mean = data.rolling(5).mean()[\"Close\"]\n",
    "quarterly_mean = data.rolling(90).mean()[\"Close\"]\n",
    "annual_mean = data.rolling(365).mean()[\"Close\"]"
   ]
  },
  {
   "cell_type": "markdown",
   "id": "a2e7d2a5-683d-4473-ab8b-99703933250c",
   "metadata": {},
   "source": [
    "We can also tell the algorithm how many days in the last week the price has gone up.  We can do this by using the pandas `shift` and `rolling` methods:\n",
    "\n",
    "* We'll shift the data forward, so we're not incorporating information from the current day into our predictor.  If we didn't use shift, then the algorithm would have knowledge of the actual target.\n",
    "* Find the 7-day rolling sum of the target.  If the price went up for all 7 days, this would be `7`.  If it went up 0 days, this would be `0`."
   ]
  },
  {
   "cell_type": "code",
   "execution_count": 134,
   "id": "d48aac9b-9532-4fd6-94fc-bebef8c00a9a",
   "metadata": {},
   "outputs": [],
   "source": [
    "weekly_trend = data.shift(1).rolling(5).sum()[\"Target\"]"
   ]
  },
  {
   "cell_type": "markdown",
   "id": "868f3b89-ff94-48be-8394-2aa432d125c9",
   "metadata": {},
   "source": [
    "Now, we're ready to add our ratios into our predictor DataFrame.\n",
    "\n",
    "First, we'll add the ratios between the weekly, quarterly, and annual means to the close:"
   ]
  },
  {
   "cell_type": "code",
   "execution_count": 135,
   "id": "9e5f7d62-50fc-428f-9bbb-91976265d61c",
   "metadata": {},
   "outputs": [],
   "source": [
    "data[\"weekly_mean\"] = weekly_mean / data[\"Close\"]\n",
    "data[\"quarterly_mean\"] = quarterly_mean / data[\"Close\"]\n",
    "data[\"annual_mean\"] = annual_mean / data[\"Close\"]"
   ]
  },
  {
   "cell_type": "markdown",
   "id": "69a91c20-208e-4420-9b18-6b654a9c78c7",
   "metadata": {},
   "source": [
    "Next, we'll add in the ratios between different rolling means.  This helps the algorithm understand what the weekly trend is relative to the annual trend."
   ]
  },
  {
   "cell_type": "code",
   "execution_count": 136,
   "id": "47f8ba37-508d-4fbf-8cc0-de9e728968f2",
   "metadata": {},
   "outputs": [],
   "source": [
    "data[\"annual_weekly_mean\"] = data[\"annual_mean\"] / data[\"weekly_mean\"]\n",
    "data[\"annual_quarterly_mean\"] = data[\"annual_mean\"] / data[\"quarterly_mean\"]"
   ]
  },
  {
   "cell_type": "markdown",
   "id": "f6a4b00b-0e20-4cd4-869f-fc38eaee2e57",
   "metadata": {},
   "source": [
    "Next, we'll add our weekly trend into the predictor DataFrame."
   ]
  },
  {
   "cell_type": "code",
   "execution_count": 137,
   "id": "d27d984b-4a3d-4941-b480-7cd0e5e7ce3e",
   "metadata": {},
   "outputs": [],
   "source": [
    "data[\"weekly_trend\"] = weekly_trend"
   ]
  },
  {
   "cell_type": "markdown",
   "id": "8ba9998f-ccdb-435a-8bcc-7aaa35a20131",
   "metadata": {},
   "source": [
    "Then, we'll add some ratios between intraday open, low, and high prices and the close price.  This helps the algorithm understand what the price trend was during the last day.  For example, if the high was much higher than the close price, it may mean that the stock was on a downward trend at the end of the day."
   ]
  },
  {
   "cell_type": "code",
   "execution_count": 138,
   "id": "b0d79c73-8c25-4b64-9049-fc9890036205",
   "metadata": {},
   "outputs": [],
   "source": [
    "data[\"open_close_ratio\"] = data[\"Open\"] / data[\"Close\"]\n",
    "data[\"high_close_ratio\"] = data[\"High\"] / data[\"Close\"]\n",
    "data[\"low_close_ratio\"] = data[\"Low\"] / data[\"Close\"]"
   ]
  },
  {
   "cell_type": "markdown",
   "id": "f8785625-0869-4197-a6e1-76029a7d982c",
   "metadata": {},
   "source": [
    "Finally, we'll update our `predictors` list with all of the new predictors we added.  This ensures that we use all of our new predictors when we're training the model."
   ]
  },
  {
   "cell_type": "code",
   "execution_count": 139,
   "id": "5248e566-f28f-4b0b-b042-31c794193bce",
   "metadata": {},
   "outputs": [],
   "source": [
    "full_predictors = predictors + [\"weekly_mean\", \"quarterly_mean\", \"annual_mean\", \"annual_weekly_mean\", \"annual_quarterly_mean\", \"open_close_ratio\", \"high_close_ratio\", \"low_close_ratio\", \"weekly_trend\"]"
   ]
  },
  {
   "cell_type": "markdown",
   "id": "f8a15c05-5889-4ea8-8037-14dc17313bb9",
   "metadata": {},
   "source": [
    "### Updating our predictions\n",
    "\n",
    "We can now update our predictions with our new predictors.  We have to cut off the first `365` rows because our rolling means will have `NaN` values for the first `365` rows.  We want to make sure we have consistent data for every row that we make predictions for.\n",
    "\n",
    "As we can see, our predictions are much more accurate than before!"
   ]
  },
  {
   "cell_type": "code",
   "execution_count": 140,
   "id": "7956f162-277d-455b-b968-bb2f4219ef2f",
   "metadata": {},
   "outputs": [],
   "source": [
    "predictions = backtest(data.iloc[365:], model, full_predictors)"
   ]
  },
  {
   "cell_type": "code",
   "execution_count": 141,
   "id": "67a69920-e030-4975-ac80-dced781d546c",
   "metadata": {},
   "outputs": [
    {
     "data": {
      "text/plain": [
       "np.float64(0.5671140939597316)"
      ]
     },
     "execution_count": 141,
     "metadata": {},
     "output_type": "execute_result"
    }
   ],
   "source": [
    "precision_score(predictions[\"Target\"], predictions[\"Predictions\"])"
   ]
  },
  {
   "cell_type": "markdown",
   "id": "8d33759e-79d2-4fe1-9d01-fbaf11506e94",
   "metadata": {},
   "source": [
    "### Evaluating our predictions\n",
    "\n",
    "Now, we can check to see how many trades we would have made.  We can again do this with `value_counts`. \n",
    "\n",
    "As you can see, we would have made `194` trades using this algorithm.  We'd have had a close to `60%` chance that the price went up when our algorithm thought it would.  This is a decent start, but there are a lot of next steps we can take to improve the algorithm further!"
   ]
  },
  {
   "cell_type": "code",
   "execution_count": 142,
   "id": "d0be9777-de2e-4b42-8190-b6aff9760ac1",
   "metadata": {},
   "outputs": [
    {
     "data": {
      "text/plain": [
       "Predictions\n",
       "0.0    8085\n",
       "1.0     298\n",
       "Name: count, dtype: int64"
      ]
     },
     "execution_count": 142,
     "metadata": {},
     "output_type": "execute_result"
    }
   ],
   "source": [
    "# Show how many trades we would make\n",
    "\n",
    "predictions[\"Predictions\"].value_counts()"
   ]
  },
  {
   "cell_type": "code",
   "execution_count": 143,
   "id": "943f1100-44a4-4b62-b9dc-309dccfe8c61",
   "metadata": {
    "tags": []
   },
   "outputs": [
    {
     "data": {
      "text/plain": [
       "<Axes: >"
      ]
     },
     "execution_count": 143,
     "metadata": {},
     "output_type": "execute_result"
    },
    {
     "data": {
      "image/png": "[encoded data removed]",
      "text/plain": [
       "<Figure size 640x480 with 1 Axes>"
      ]
     },
     "metadata": {},
     "output_type": "display_data"
    }
   ],
   "source": [
    "# Look at trades we would have made in the last 100 days\n",
    "\n",
    "predictions.iloc[-50:].plot()"
   ]
  },
  {
   "cell_type": "code",
   "execution_count": 144,
   "id": "ac1c91bd",
   "metadata": {},
   "outputs": [
    {
     "data": {
      "text/html": [
       "<div>\n",
       "<style scoped>\n",
       "    .dataframe tbody tr th:only-of-type {\n",
       "        vertical-align: middle;\n",
       "    }\n",
       "\n",
       "    .dataframe tbody tr th {\n",
       "        vertical-align: top;\n",
       "    }\n",
       "\n",
       "    .dataframe thead th {\n",
       "        text-align: right;\n",
       "    }\n",
       "</style>\n",
       "<table border=\"1\" class=\"dataframe\">\n",
       "  <thead>\n",
       "    <tr style=\"text-align: right;\">\n",
       "      <th></th>\n",
       "      <th>Target</th>\n",
       "      <th>Predictions</th>\n",
       "    </tr>\n",
       "  </thead>\n",
       "  <tbody>\n",
       "    <tr>\n",
       "      <th>2024-11-04 05:00:00</th>\n",
       "      <td>0.0</td>\n",
       "      <td>0.0</td>\n",
       "    </tr>\n",
       "    <tr>\n",
       "      <th>2024-11-05 05:00:00</th>\n",
       "      <td>1.0</td>\n",
       "      <td>0.0</td>\n",
       "    </tr>\n",
       "    <tr>\n",
       "      <th>2024-11-06 05:00:00</th>\n",
       "      <td>1.0</td>\n",
       "      <td>0.0</td>\n",
       "    </tr>\n",
       "    <tr>\n",
       "      <th>2024-11-07 05:00:00</th>\n",
       "      <td>1.0</td>\n",
       "      <td>0.0</td>\n",
       "    </tr>\n",
       "    <tr>\n",
       "      <th>2024-11-08 05:00:00</th>\n",
       "      <td>0.0</td>\n",
       "      <td>0.0</td>\n",
       "    </tr>\n",
       "    <tr>\n",
       "      <th>2024-11-11 05:00:00</th>\n",
       "      <td>0.0</td>\n",
       "      <td>0.0</td>\n",
       "    </tr>\n",
       "    <tr>\n",
       "      <th>2024-11-12 05:00:00</th>\n",
       "      <td>1.0</td>\n",
       "      <td>0.0</td>\n",
       "    </tr>\n",
       "    <tr>\n",
       "      <th>2024-11-13 05:00:00</th>\n",
       "      <td>1.0</td>\n",
       "      <td>0.0</td>\n",
       "    </tr>\n",
       "    <tr>\n",
       "      <th>2024-11-14 05:00:00</th>\n",
       "      <td>1.0</td>\n",
       "      <td>0.0</td>\n",
       "    </tr>\n",
       "    <tr>\n",
       "      <th>2024-11-15 05:00:00</th>\n",
       "      <td>0.0</td>\n",
       "      <td>0.0</td>\n",
       "    </tr>\n",
       "  </tbody>\n",
       "</table>\n",
       "</div>"
      ],
      "text/plain": [
       "                     Target  Predictions\n",
       "2024-11-04 05:00:00     0.0          0.0\n",
       "2024-11-05 05:00:00     1.0          0.0\n",
       "2024-11-06 05:00:00     1.0          0.0\n",
       "2024-11-07 05:00:00     1.0          0.0\n",
       "2024-11-08 05:00:00     0.0          0.0\n",
       "2024-11-11 05:00:00     0.0          0.0\n",
       "2024-11-12 05:00:00     1.0          0.0\n",
       "2024-11-13 05:00:00     1.0          0.0\n",
       "2024-11-14 05:00:00     1.0          0.0\n",
       "2024-11-15 05:00:00     0.0          0.0"
      ]
     },
     "execution_count": 144,
     "metadata": {},
     "output_type": "execute_result"
    }
   ],
   "source": [
    "predictions.tail(10)"
   ]
  },
  {
   "cell_type": "markdown",
   "id": "6743b773-8383-4615-857c-ffccee6ef0c8",
   "metadata": {},
   "source": [
    "## Next steps\n",
    "\n",
    "We've come far in this project!  So far, we have:\n",
    "\n",
    "* Downloaded data for a stock\n",
    "* Cleaned and explored the data\n",
    "* Created a machine learning model\n",
    "* Created a backtesting function\n",
    "* Improved our predictions\n",
    "\n",
    "We now have a model that we can continue to build on and tweak.  The biggest area we can tweak is to continue to improve the accuracy of our predictions.  \n",
    "\n",
    "There are a lot of next steps we could take:\n",
    "\n",
    "**Improve the technique**\n",
    "\n",
    "* Calculate how much money you'd make if you traded with this algorithm\n",
    "\n",
    "**Improve the algorithm**\n",
    "\n",
    "* Run with a reduced step size!  This will take longer, but increase accuracy\n",
    "* Try discarding older data (only keeping data in a certain window)\n",
    "* Try a different machine learning algorithm\n",
    "* Tweak random forest parameters, or the prediction threshold\n",
    "\n",
    "**Add in more predictors**\n",
    "\n",
    "* Add in intraday trading day\n",
    "    * See if you can add in hourly trends from the day before\n",
    "* Account for activity post-close and pre-open\n",
    "    * Early trading\n",
    "    * Trading on other exchanges that open before the NYSE (to see what the global sentiment is)\n",
    "* Economic indicators\n",
    "    * Interest rates\n",
    "    * Other important economic news\n",
    "* Key dates\n",
    "    * Dividends\n",
    "    * External factors like elections\n",
    "* Company milestones\n",
    "    * Earnings calls\n",
    "    * Analyst ratings\n",
    "    * Major announcements\n",
    "* Prices of related stocks\n",
    "    * Other companies in the same sector\n",
    "    * Key partners, customers, etc.\n",
    "    \n",
    "Hopefully this project has been helpful, and you now have something you can add to your portfolio.  As you build out your project, I'd recommend ensuring that you document your key choices, and explain to the reader why you made the choices you did.  You can see an [example](https://github.com/dataquestio/project-walkthroughs/blob/master/stock/StockProject.ipynb) of this completed project for inspiration.\n",
    "\n",
    "\n",
    "Stay tuned for more project walkthrough posts!"
   ]
  }
 ],
 "metadata": {
  "kernelspec": {
   "display_name": ".venv",
   "language": "python",
   "name": "python3"
  },
  "language_info": {
   "codemirror_mode": {
    "name": "ipython",
    "version": 3
   },
   "file_extension": ".py",
   "mimetype": "text/x-python",
   "name": "python",
   "nbconvert_exporter": "python",
   "pygments_lexer": "ipython3",
   "version": "3.9.6"
  }
 },
 "nbformat": 4,
 "nbformat_minor": 5
}
